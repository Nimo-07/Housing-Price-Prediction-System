{
  "nbformat": 4,
  "nbformat_minor": 0,
  "metadata": {
    "colab": {
      "provenance": []
    },
    "kernelspec": {
      "name": "python3",
      "display_name": "Python 3"
    },
    "language_info": {
      "name": "python"
    }
  },
  "cells": [
    {
      "cell_type": "markdown",
      "source": [
        "# California Housing Price Prediction\n",
        "\n",
        "This notebook is a great tool to predict house price based on the California Housing Prices Dataset."
      ],
      "metadata": {
        "id": "CyKq38u7qGag"
      }
    },
    {
      "cell_type": "markdown",
      "source": [
        "# Import Libraries and Setup"
      ],
      "metadata": {
        "id": "9cqR3ySIrJPv"
      }
    },
    {
      "cell_type": "code",
      "execution_count": 1,
      "metadata": {
        "id": "cHW7royBpJYw"
      },
      "outputs": [],
      "source": [
        "import pandas as pd\n",
        "import numpy as np\n",
        "import matplotlib.pyplot as plt\n",
        "import seaborn as sns\n",
        "import warnings\n",
        "from sklearn.datasets import fetch_california_housing\n",
        "from sklearn.model_selection import train_test_split, cross_val_score, RandomizedSearchCV, StratifiedKFold\n",
        "from sklearn.preprocessing import StandardScaler, MinMaxScaler, RobustScaler, PowerTransformer, QuantileTransformer, PolynomialFeatures\n",
        "from sklearn.linear_model import LinearRegression, Ridge, Lasso, ElasticNet\n",
        "from sklearn.tree import DecisionTreeRegressor\n",
        "from sklearn.ensemble import RandomForestRegressor, GradientBoostingRegressor, AdaBoostRegressor, VotingRegressor, StackingRegressor\n",
        "from sklearn.svm import SVR\n",
        "from sklearn.neighbors import KNeighborsRegressor\n",
        "from sklearn.neural_network import MLPRegressor\n",
        "from sklearn.metrics import mean_squared_error, r2_score, mean_absolute_error, mean_absolute_percentage_error\n",
        "from sklearn.inspection import permutation_importance\n",
        "from scipy import stats\n",
        "from scipy.stats import jarque_bera, normaltest, shapiro\n",
        "from statsmodels.stats.diagnostic import het_white\n",
        "from statsmodels.stats.stattools import durbin_watson\n",
        "import itertools\n",
        "from datetime import datetime\n",
        "import joblib\n",
        "\n",
        "warnings.filterwarnings('ignore')\n",
        "plt.style.use('seaborn-v0_8')\n",
        "sns.set_palette(\"husl\")\n",
        "np.random.seed(42)"
      ]
    },
    {
      "cell_type": "markdown",
      "source": [
        "# Data Loading and Initial Exploration"
      ],
      "metadata": {
        "id": "eF2y4oy5rRVn"
      }
    },
    {
      "cell_type": "code",
      "source": [
        "housing = fetch_california_housing()\n",
        "df = pd.DataFrame(housing.data, columns=housing.feature_names)\n",
        "df['target'] = housing.target\n",
        "\n",
        "print(f\"Dataset shape: {df.shape}\")\n",
        "print(f\"Missing values: {df.isnull().sum().sum()}\")\n",
        "print(f\"Target variable statistics:\")\n",
        "print(df['target'].describe())\n",
        "\n",
        "df['rooms_per_household'] = df['AveRooms'] / df['HouseAge']\n",
        "df['bedrooms_per_room'] = df['AveBedrms'] / df['AveRooms']\n",
        "df['population_per_household'] = df['Population'] / df['HouseAge']\n",
        "df['income_per_person'] = df['MedInc'] / (df['Population'] / df['HouseAge'])"
      ],
      "metadata": {
        "colab": {
          "base_uri": "https://localhost:8080/"
        },
        "id": "1MROtaeQrRg3",
        "outputId": "ebe84a08-dae1-4564-a0ae-cd5b547a0976"
      },
      "execution_count": 2,
      "outputs": [
        {
          "output_type": "stream",
          "name": "stdout",
          "text": [
            "Dataset shape: (20640, 9)\n",
            "Missing values: 0\n",
            "Target variable statistics:\n",
            "count    20640.000000\n",
            "mean         2.068558\n",
            "std          1.153956\n",
            "min          0.149990\n",
            "25%          1.196000\n",
            "50%          1.797000\n",
            "75%          2.647250\n",
            "max          5.000010\n",
            "Name: target, dtype: float64\n"
          ]
        }
      ]
    }
  ]
}